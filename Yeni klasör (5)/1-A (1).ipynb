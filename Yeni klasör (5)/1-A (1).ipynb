import pandas as pd
data = {
  "maas": ['normal', 'yuksek', 'dusuk','yuksek', 'dusuk','yuksek', 'dusuk','yuksek', 'dusuk','yuksek', 'dusuk'],
  "deneyim": ['orta', 'yok','yok','orta','orta','iyi','iyi','orta','orta','iyi','iyi'],
  "gorev": ['uzman', 'uzman', 'yonetici', 'yonetici', 'yonetici', 'yonetici', 'yonetici','uzman', 'uzman','uzman', 'uzman'],
   "memnun": ['evet', 'evet','evet', 'evet','evet', 'evet','evet', 'hayir', 'hayir', 'hayir', 'hayir']
}
df = pd.DataFrame(data, index = ["1", "2", "3","4","5","6","7","8","9","10","11"])
print(df)
