import pandas as pd
import numpy as np
maas=np.array(["normal","dusuk","yuksek"])
deneyim=np.array(["iyi","orta","yok"])
gorev=np.array(["uzman","yonetici"])
memnun=np.array(["evet","hayir"])
for i in maas:
if(i==0){
yenimaas1=maas[1]+maas[2]
}
if(i==1){
yenimaas2=maas[0]+maas[2]
}
if(i==2){
yenimaas3=maas[0]+maas[1]
}
for i in deneyim:
if(i==0){
yenideneyim1=deneyim[1]+deneyim[2]
}
if(i==1){
yenideneyim2=deneyim[0]+deneyim[2]
}
if(i==2){
yenideneyim3=deneyim[0]+deneyim[1]
}
for i in gorev:
if(i==0){
gorev1=gorev[1]
}
if(i==1){
gorev2=gorev[0]
}

data = {
  "sol": [maas[0],  maas[1],maas[2], deneyim[0],deneyim[1], deneyim[2],gorev[0], gorev[1],memnun[0],memnun[1]],
  "sag": [yenimaas1, yenimaas2,yenimaas3,yenideneyim,yenideneyim2,yenideneyim3,gorev1,gorev2]
  
}

df = pd.DataFrame(data, index = ["1", "2", "3","4","5","6","7","8","9","10","11"])

print(df)
