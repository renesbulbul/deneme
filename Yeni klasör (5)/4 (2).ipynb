import pandas as pd
df = pd.read_csv("D:/Datasets/iris.csv")
# Her bir satırı sütunları virgülle ayrılmış şekilde bir listenin elemanları yapalım
x = df.to_string(header=False,
                  index=False,
                  index_names=False).split('\n')
vals = [','.join(ele.split()) for ele in x]
# Elde ettiğimiz listeyi dataframe'e value sütunü olarak takalım
df['value'] = vals
# Sonucu görelim
df.head()