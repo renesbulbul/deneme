import pandas as pd
data = {
  "x": [1,2,2,3,4,5,6,8,10,11],
  "y": [3,5,3,9,7,2,8,6,6,1],
  "z": ['negatif', 'pozitif', 'pozitif', 'negatif', 'negatif', 'pozitif', 'pozitif','negatif','negatif','negatif']
   
}
df = pd.DataFrame(data)
print(df)
