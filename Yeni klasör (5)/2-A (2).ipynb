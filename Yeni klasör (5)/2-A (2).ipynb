import pandas as pd
data = {
  "age": ['<=30', '<=30', '31..40','>40', '>40','>40', '31..40','<=30', '<=30','>40', '<=30'],
  "income": ['hight', 'hight','hight','medium','low','low','low','medium','low','high','medium'],
  "student": ['no', 'no, 'no, 'no, 'yes', 'yes', 'no','yes', 'yes','yes', 'no'],
   "credit_rating": ['fair', 'excellent','fair', 'fair','fair','excellent','excellent', 'fair','fair','fair','excellent'],
   "computer": ['no', 'no','yes','yes','yes', 'no','yes', 'no','yes', 'yes', 'yes']
   
}
df = pd.DataFrame(data)
print(df)
