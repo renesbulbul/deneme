import pandas as pd
data = {
  "age": ['<=30', '<=30', '31..40','>40', '>40','>40', '31..40','<=30', '<=30','>40', '<=30'],
  "income": ['hight', 'hight','hight','medium','low','low','low','medium','low','high','medium'],
  "student": ['no', 'no, 'no, 'no, 'yes', 'yes', 'no','yes', 'yes','yes', 'no'],
   "credit_rating": ['fair', 'excellent','fair', 'fair','fair','excellent','excellent', 'fair','fair','fair','excellent'],
   "computer": ['no', 'no','yes','yes','yes', 'no','yes', 'no','yes', 'yes', 'yes']
   
}
df = pd.DataFrame(data)
for i in range(14):
if(age=="<=30" ||computer=="yes") {
olasilik1++
}
if(age=="<=30" ||computer=="no") {
olasilik2++
}
if(income=="medium" ||computer=="yes") {
olasilik3++
}
if(income=="medium" ||computer=="no") {
olasilik4++
}
if(student=="yes" ||computer=="yes") {
olasilik5++
}
if(student=="yes" ||computer=="no") {
olasilik6++
}
if(credit_rating=="fair" ||computer=="yes") {
olasilik7++
}
if(credit_rating=="fair" ||computer=="no") {
olasilik8++
}

if(computer=="no"){
no++
}
else{
yes++
}
buycomputer=yes/14
dontbuycomputer=no/14
ageolasilik=olasilik1/yes
ageolasilik2=olasilik2/no
incomeolasilik3=olasilik3/yes
incomesilik4=olasilik4/no
studentolasilik5=olasilik5/yes
studentolasilik6=olasilik6/no
credit_ratingolasilik7=olasilik7/yes
credit_ratingolasilik8=olasilik8/no
